{
  "cells": [
    {
      "cell_type": "markdown",
      "metadata": {
        "id": "view-in-github",
        "colab_type": "text"
      },
      "source": [
        "<a href=\"https://colab.research.google.com/github/lalithasrich/IBM_netflix_clone/blob/main/dealden.ipynb\" target=\"_parent\"><img src=\"https://colab.research.google.com/assets/colab-badge.svg\" alt=\"Open In Colab\"/></a>"
      ]
    },
    {
      "cell_type": "code",
      "execution_count": null,
      "metadata": {
        "id": "-KbqtyFLPLHc"
      },
      "outputs": [],
      "source": [
        "!pip install requests"
      ]
    },
    {
      "cell_type": "code",
      "execution_count": null,
      "metadata": {
        "colab": {
          "base_uri": "https://localhost:8080/"
        },
        "id": "DwueD3gvPLHh",
        "outputId": "665e1b42-63b5-4533-af58-25942fca7f4c"
      },
      "outputs": [
        {
          "output_type": "stream",
          "name": "stdout",
          "text": [
            "Requirement already satisfied: beautifulsoup4 in /usr/local/lib/python3.10/dist-packages (4.11.2)\n",
            "Requirement already satisfied: soupsieve>1.2 in /usr/local/lib/python3.10/dist-packages (from beautifulsoup4) (2.4.1)\n"
          ]
        }
      ],
      "source": [
        "!pip install beautifulsoup4"
      ]
    },
    {
      "cell_type": "code",
      "execution_count": null,
      "metadata": {
        "id": "0HL6lYU-PLHi"
      },
      "outputs": [],
      "source": [
        "from bs4 import BeautifulSoup\n",
        "import requests"
      ]
    },
    {
      "cell_type": "code",
      "execution_count": null,
      "metadata": {
        "id": "65ITDpNYPLHj"
      },
      "outputs": [],
      "source": [
        "headers = {'User-Agent' : 'Mozilla/5.0 (Windows NT 10.0; Win64; x64) AppleWebKit/537.36 (KHTML, like Gecko) Chrome/94.0.4606.61 Safari/537.36'}"
      ]
    },
    {
      "cell_type": "code",
      "execution_count": null,
      "metadata": {
        "id": "ds7z0edFPLHj"
      },
      "outputs": [],
      "source": [
        "flipkart=''\n",
        "amazon=''"
      ]
    },
    {
      "cell_type": "code",
      "execution_count": null,
      "metadata": {
        "id": "Of8orrwDPLHk"
      },
      "outputs": [],
      "source": [
        "def flipkart(name):\n",
        "    try:\n",
        "        global flipkart\n",
        "        name1 = name.replace(\" \",\"+\")\n",
        "        flipkart=f'https://www.flipkart.com/search?q={name1}&otracker=search&otracker1=search&marketplace=FLIPKART&as-show=off&as=off'\n",
        "        res = requests.get(f'https://www.flipkart.com/search?q={name1}&otracker=search&otracker1=search&marketplace=FLIPKART&as-show=off&as=off',headers=headers)\n",
        "\n",
        "\n",
        "        print(\"\\nSearching in flipkart....\")\n",
        "        soup = BeautifulSoup(res.text,'html.parser')\n",
        "\n",
        "        if(soup.select('._4rR01T')):\n",
        "            flipkart_name = soup.select('._4rR01T')[0].getText().strip().upper()\n",
        "            print(flipkart_name)\n",
        "            # if name.upper() in flipkart_name:\n",
        "            flipkart_price = soup.select('._30jeq3')[0].getText().strip()\n",
        "            flipkart_name = soup.select('._4rR01T')[0].getText().strip()\n",
        "            print(\"Flipkart:\")\n",
        "            print(flipkart_name)\n",
        "            print(flipkart_price)\n",
        "            print(\"---------------------------------\")\n",
        "\n",
        "        elif(soup.select('.s1Q9rs')):\n",
        "            flipkart_name = soup.select('.s1Q9rs')[0].getText().strip()\n",
        "            flipkart_name = flipkart_name.upper()\n",
        "            print(flipkart_name)\n",
        "            # if name.upper() in flipkart_name:\n",
        "            flipkart_price = soup.select('._30jeq3')[0].getText().strip()\n",
        "            flipkart_name = soup.select('.s1Q9rs')[0].getText().strip()\n",
        "            print(\"Flipkart:\")\n",
        "            print(flipkart_name)\n",
        "            print(flipkart_price)\n",
        "            print(\"---------------------------------\")\n",
        "        else:\n",
        "            flipkart_price='0'\n",
        "\n",
        "        return flipkart_price\n",
        "    except:\n",
        "        print(\"Flipkart: No product found!\")\n",
        "        print(\"---------------------------------\")\n",
        "        flipkart_price= '0'\n",
        "    return flipkart_price\n",
        "\n",
        "def amazon(name):\n",
        "    try:\n",
        "        global amazon\n",
        "        name1 = name.replace(\" \",\"-\")\n",
        "        name2 = name.replace(\" \",\"+\")\n",
        "        amazon=f'https://www.amazon.in/{name1}/s?k={name2}'\n",
        "        res = requests.get(f'https://www.amazon.in/{name1}/s?k={name2}',headers=headers)\n",
        "        print(\"\\nSearching in amazon...\")\n",
        "        soup = BeautifulSoup(res.text,'html.parser')\n",
        "        amazon_page = soup.select('.a-color-base.a-text-normal')\n",
        "        amazon_page_length = int(len(amazon_page))\n",
        "        for i in range(0,amazon_page_length):\n",
        "            name = name.upper()\n",
        "            amazon_name = soup.select('.a-color-base.a-text-normal')[i].getText().strip().upper()\n",
        "            amazon_sponser = soup.select('.a-color-base')[i].getText().strip().upper()\n",
        "            if(amazon_sponser!=\"sponsered\"):\n",
        "              print(\"that\")\n",
        "            print(amazon_name)\n",
        "            # if name in amazon_name:\n",
        "            if True:\n",
        "                amazon_name = soup.select('.a-color-base.a-text-normal')[i].getText().strip()\n",
        "                amazon_price = soup.select('.a-price-whole')[i].getText().strip().upper()\n",
        "                print(\"Amazon:\")\n",
        "                print(amazon_name)\n",
        "                print(\"₹\"+amazon_price)\n",
        "                print(\"---------------------------------\")\n",
        "                break\n",
        "            else:\n",
        "                i+=1\n",
        "                i=int(i)\n",
        "                if i==amazon_page_length:\n",
        "                    amazon_price = '0'\n",
        "                    print(\"amazon : No product found!\")\n",
        "                    print(\"-----------------------------\")\n",
        "                    break\n",
        "\n",
        "        return amazon_price\n",
        "    except:\n",
        "        print(\"Amazon: No product found!\")\n",
        "        print(\"---------------------------------\")\n",
        "        amazon_price = '0'\n",
        "    return amazon_price\n",
        "\n",
        "def convert(a):\n",
        "    b=a.replace(\" \",'')\n",
        "    c=b.replace(\"INR\",'')\n",
        "    d=c.replace(\",\",'')\n",
        "    f=d.replace(\"₹\",'')\n",
        "    g=int(float(f))\n",
        "    return g\n",
        "\n",
        "name=input(\"Product Name:\\n\")\n",
        "flipkart_price=flipkart(name)\n",
        "amazon_price=amazon(name)\n",
        "\n",
        "\n",
        "if flipkart_price=='0':\n",
        "    print(\"Flipkart: No product found!\")\n",
        "    flipkart_price = int(flipkart_price)\n",
        "else:\n",
        "    print(\"\\nFlipkart Price:\",flipkart_price)\n",
        "    flipkart_price=convert(flipkart_price)\n",
        "if amazon_price=='0':\n",
        "    print(\"Amazon: No product found!\")\n",
        "    amazon_price = int(amazon_price)\n",
        "else:\n",
        "    print(\"\\nAmazon price: ₹\",amazon_price)\n",
        "    amazon_price=convert(amazon_price)\n"
      ]
    },
    {
      "cell_type": "code",
      "execution_count": null,
      "metadata": {
        "colab": {
          "base_uri": "https://localhost:8080/"
        },
        "id": "s-_rOzT3PLHo",
        "outputId": "b161388c-23ac-479e-8548-8d18a602f5bf"
      },
      "outputs": [
        {
          "output_type": "stream",
          "name": "stdout",
          "text": [
            "_______________________________\n",
            "\n",
            "Minimun Price: ₹ 41990\n",
            "\n",
            "URL: https://www.amazon.in/Iphone-11/s?k=Iphone+11 \n",
            "\n",
            "---------------------------------------------------------URLs--------------------------------------------------------------\n",
            "Flipkart : \n",
            " https://www.flipkart.com/search?q=Iphone+11&otracker=search&otracker1=search&marketplace=FLIPKART&as-show=off&as=off\n",
            "\n",
            "Amazon : \n",
            " https://www.amazon.in/Iphone-11/s?k=Iphone+11\n",
            "---------------------------------------------------------------------------------------------------------------------------\n"
          ]
        }
      ],
      "source": [
        "lst = [flipkart_price,amazon_price]\n",
        "#print(lst)\n",
        "lst2=[]\n",
        "for j in range(0,len(lst)):\n",
        "    if lst[j]>0:\n",
        "        lst2.append(lst[j])\n",
        "if len(lst2)==0:\n",
        "    print(\"No relative product find in all websites....\")\n",
        "else:\n",
        "    min_price=min(lst2)\n",
        "\n",
        "    print(\"_______________________________\")\n",
        "    print(\"\\nMinimun Price: ₹\",min_price)\n",
        "    price = {\n",
        "        f'{amazon_price}':f'{amazon}',\n",
        "        f'{flipkart_price}':f'{flipkart}',\n",
        "    }\n",
        "    for key, value in price.items():\n",
        "        if int(key)==min_price:\n",
        "            print ('\\nURL:', price[key],'\\n')\n",
        "\n",
        "    print(\"---------------------------------------------------------URLs--------------------------------------------------------------\")\n",
        "    print(\"Flipkart : \\n\",flipkart)\n",
        "    print(\"\\nAmazon : \\n\",amazon)\n",
        "    print(\"---------------------------------------------------------------------------------------------------------------------------\")"
      ]
    },
    {
      "cell_type": "code",
      "execution_count": null,
      "metadata": {
        "id": "QZm_UpS7PLHq"
      },
      "outputs": [],
      "source": []
    },
    {
      "cell_type": "code",
      "execution_count": null,
      "metadata": {
        "id": "XfKpxEb5PLHs"
      },
      "outputs": [],
      "source": []
    }
  ],
  "metadata": {
    "kernelspec": {
      "display_name": "Python 3",
      "language": "python",
      "name": "python3"
    },
    "language_info": {
      "codemirror_mode": {
        "name": "ipython",
        "version": 3
      },
      "file_extension": ".py",
      "mimetype": "text/x-python",
      "name": "python",
      "nbconvert_exporter": "python",
      "pygments_lexer": "ipython3",
      "version": "3.8.5"
    },
    "colab": {
      "provenance": [],
      "include_colab_link": true
    }
  },
  "nbformat": 4,
  "nbformat_minor": 0
}